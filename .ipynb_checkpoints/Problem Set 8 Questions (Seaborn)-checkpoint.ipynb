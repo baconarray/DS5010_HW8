{
 "cells": [
  {
   "cell_type": "markdown",
   "id": "b8412ce0",
   "metadata": {},
   "source": [
    "<div class=\"alert alert-block alert-info\">\n",
    "    <b><p style=\"font-size: XX-large\">Instruction</p></b> </div>"
   ]
  },
  {
   "cell_type": "markdown",
   "id": "f4ae3378",
   "metadata": {},
   "source": [
    "        \n",
    "\n",
    "* **For submission, choose ONLY one of the following methods that you are comfortable with:**\n",
    "    > 1. submit a single (.ipynb) file with all the answers. Be sure to name each problem clearly so that we know which question you are answering.\n",
    "    \n",
    "    > 2. put the 5 py files (one for each question) into a folder and zip it, and upload the zip file to Gradescope. Just remember to name each py file clearly so we know which question you are answering.\n",
    "\n",
    "\n",
    "\n",
    "* Functions must be documented with a docstring describing:\n",
    "    1. the function's purpose,\n",
    "    2. any parameters,and\n",
    "    3. the return value.\n",
    "\n",
    "\n",
    "* Your code needs to follow Python coding style rules discussed in class and detailed in the\n",
    "<a href = \"https://www.python.org/dev/peps/pep-0008/\">PEP8 standards</a>.\n",
    "\n",
    "\n",
    "* Your code will be checked both for correctness and efficiency. A solution that gives the correct\n",
    "results but is not the most efficient one will only get partial credit.\n",
    "\n",
    "    1. Correctness - the code works without errors and gives the correct output\n",
    "    2. Efficiency - the code provides the most efficient solution\n",
    "    3. Coding standards - variable names, comments, docstrings, spaces, etc.\n",
    "    4. Testing - at least 1-2 tests should be provided for each question ( if applicable)\n",
    "\n",
    "\n",
    "*  You are welcome to discuss these problems with other students in class, but you must write up the solution yourself, and indicate who you discussed it with (if any)."
   ]
  },
  {
   "cell_type": "markdown",
   "id": "c7e8c702",
   "metadata": {},
   "source": [
    "<div class=\"alert alert-block alert-info\">\n",
    "    <b><p style=\"font-size: XX-large\">Problem 1 (20 pts): Data Exploration </p></b> </div>"
   ]
  },
  {
   "cell_type": "markdown",
   "id": "29ba3997",
   "metadata": {},
   "source": [
    "1.(2 pts) Load the \"iris\" dataset from Seaborn and display the first 5 rows of the dataset to understand all the columns.\\\n",
    "\n",
    "2.(4 pts) Use a Count Plot to display the frequency of each species in the iris dataset. Set the ticks on the x-axis and remove the spine on the y-axis. Hint: You should find 3 species have the same number of count. \\\n",
    "\n",
    "\n",
    "3.(4 pts) Use a histogram to show the distribution of sepal_length. Use 'bins' value you believe is most appropriate. Set hue as 'species'\\\n",
    "\n",
    "\n",
    "4.(4 pts) Use a Bar Plot to show the mean of each species' sepal_length. Set the figsize to something a little big bigger and use another Bar Plot to show the standard deviation of each species' sepal_length.\\\n",
    "\n",
    "\n",
    "5.(6 pts) Use a Horizontal Box Plot to illustrate the distribution of sepal_length for each species. Try the same plot with 3 different palettes. As you can probably see, virginica's \"box\" is wider than that of setosa, what does this difference indicate?\n",
    "\n",
    "Note: You can use matplotlib libraries to label the title, legend, x-axis, and the y-axis. But the plot MUST be created using seaborn modules for full marks."
   ]
  },
  {
   "cell_type": "markdown",
   "id": "4a099548",
   "metadata": {
    "tags": []
   },
   "source": [
    "<div class=\"alert alert-block alert-info\">\n",
    "    <b><p style=\"font-size: XX-large\">Problem 2 (20 pts): Car MPG</p></b> </div>"
   ]
  },
  {
   "cell_type": "markdown",
   "id": "b5fe8b24",
   "metadata": {
    "tags": []
   },
   "source": [
    "Load the 'mph' dataset from seaborn and display the first 5 records to understand its structure. Do the following: \n",
    "    \n",
    "    \n",
    "1. (5 pts) Generate a strip plot of the 'mpg' (y-axis) with respect to the 'model_year' (x-axis) and 'origin' as hue. Analyze the plot in no more than three lines .\n",
    "2. (5 pts) Create a KDE plot for 'mpg' (y-axis) and 'cylinders' (x-axis). What does the plot tell you about mpg and cylinders?\n",
    "3. (5 pts) Use a scatterplot to show 'displacement' with respect to 'horsepower'. Use 'origin' as the hue. Use the plot to write your analysis.\n",
    "4. (5 pts) Generate a rugplot for 'displacement' and 'horsepower'. Use 'origin' as the hue. \n",
    "\n",
    "Note: You can use matplotlib libraries to label the title, legend, x-axis, and the y-axis. But the plot MUST be created using seaborn modules for full marks."
   ]
  },
  {
   "cell_type": "markdown",
   "id": "4e6cc1cc",
   "metadata": {},
   "source": [
    "<div class=\"alert alert-block alert-info\">\n",
    "    <b><p style=\"font-size: XX-large\">Problem 3 (20 pts): Titanic Survival Rate</p></b> </div>"
   ]
  },
  {
   "cell_type": "markdown",
   "id": "584fcc2d",
   "metadata": {},
   "source": [
    "Load the \"titanic\" dataset from Seaborn, head the first few lines to understand its structure and do the following:\n",
    "1. (5 pts) Use a Violin Plot to compare the distribution between 'survived' and 'pclass'. Use another Violin Plot to compare 'survived' and 'adult_male'. 'Survived' should be on the y-axis in both plots for easier visualization. What inferences can you make out of it? \n",
    "2. (5 pts) Use a Joint Plot to show the distribution between 'fare' and 'age'. Use survived as hue. Make palette equal to a [custom list of colors](https://www.kaggle.com/code/sarahcrowder/seaborn-palettes-color-maps-beginner-tutorial#Creating-Custom-Color-Palettes) so that survived=0 are colored as red and survived=1 are colored as green. From just looking at the scatter-plot, which variable do you think is more correlated to \"survived\" (survival rate)\n",
    "3. (5 pts) What is the survival rate of passengers on the Titanic based on their class (1st, 2nd, and 3rd class) and gender (male and female)? Create a pivot table to compare the average survival rates between different classes and genders. Identify any significant differences in survival by class and gender. Hint: `aggfunc='mean'` averages all the values up. \n",
    "4. (5 pts) Use a Heat Map to illustrate the correlation between different variables. Note that correlation table only works for numeric values, hence there may be a need to drop all categorical columns before calling .corr() function. Some version of Panda is smart enough to only do correlation on numeric values and some versions require the users to do a direct drop. You should be left with the following variables: 'survived','pclass','age','sibsp','parch','fare','adult_male','alone'. Which 2 variables are most correlated with survival rate on the titanic?\n",
    "\n",
    "Note: You can use matplotlib libraries to label the title, legend, x-axis, and the y-axis. But the plot MUST be created using seaborn modules for full marks."
   ]
  },
  {
   "cell_type": "markdown",
   "id": "69c38f51",
   "metadata": {},
   "source": [
    "<div class=\"alert alert-block alert-info\">\n",
    "    <b><p style=\"font-size: XX-large\">Problem 4 (20 pts): Iris Pair Plots and Grids</p></b> </div>"
   ]
  },
  {
   "cell_type": "markdown",
   "id": "d9971a3d",
   "metadata": {},
   "source": [
    "Use Iris dataset from Problem 1 to help you with the following:\n",
    "\n",
    "1. (7 pts) Select 'sepal_length','sepal_width','petal_length','petal_width' variables to plot a Pair Plot. It will be super helpful to make 'species' as your hue.\n",
    "2. (6 pts) What insights can you gather from these visualizations? As you can probably see, different clusters are formed by the variables, how do the clusters formed by the sepal length and width differ from those formed by the petal length and width?\n",
    "3. (7 pts) Use the same variables from above and create a 'PairGrid' for the 'iris' dataset. On the diagonal maps, plot a histplot, on the upper maps plot a scatterplot, and on the lower maps plot a kdeplot. Also use 'species' as your hue. \n",
    "\n",
    "Note: You can use matplotlib libraries to label the title, legend, x-axis, and the y-axis. But the plot MUST be created using seaborn modules for full marks.\n",
    "\n"
   ]
  },
  {
   "cell_type": "markdown",
   "id": "85070726",
   "metadata": {
    "tags": []
   },
   "source": [
    "<div class=\"alert alert-block alert-info\">\n",
    "    <b><p style=\"font-size: XX-large\">Problem 5 (20 pts): Flight Data Analysis </p></b> </div>"
   ]
  },
  {
   "cell_type": "markdown",
   "id": "158442bc",
   "metadata": {},
   "source": [
    "Load the \"flights\" dataset from Seaborn. Display the first 5 rows of the dataset to inspect its structure. Do the following:\n",
    "\n",
    "\n",
    "1. (4 pts) What is the distribution of the number of passengers by month? Use the plot that you believe can best illustrate the concept.\n",
    "2. (4 pts) How does the number of passengers vary across different years and months?(use [sns.lineplot()](https://seaborn.pydata.org/generated/seaborn.lineplot.html), month as x-axis, # of passengers as y-axis, and year as hue)\n",
    "3. (4 pts) Which month has the highest number of passengers on average? Use the plot that you believe can best illustrate the concept.\n",
    "4. (4 pts) Is there a seasonal pattern in the number of passengers on flights? Use the plot that you believe can best illustrate the concept.\n",
    "5. (4 pts) How does the number of passengers on flights change over the years? Use the plot that you believe can best illustrate the concept.\n",
    "\n",
    "Feel free to use pandas [groupby](https://pandas.pydata.org/docs/reference/api/pandas.DataFrame.groupby.html) function to aggregate the data to calculate the average.\\\n",
    "Note: You can use matplotlib libraries to label the title, legend, x-axis, and the y-axis. But the plot MUST be created using seaborn modules for full marks.\n"
   ]
  },
  {
   "cell_type": "markdown",
   "id": "85da71c4",
   "metadata": {},
   "source": [
    "# Done!"
   ]
  },
  {
   "cell_type": "code",
   "execution_count": null,
   "id": "ef8406a6",
   "metadata": {},
   "outputs": [],
   "source": []
  }
 ],
 "metadata": {
  "kernelspec": {
   "display_name": "Python 3 (ipykernel)",
   "language": "python",
   "name": "python3"
  },
  "language_info": {
   "codemirror_mode": {
    "name": "ipython",
    "version": 3
   },
   "file_extension": ".py",
   "mimetype": "text/x-python",
   "name": "python",
   "nbconvert_exporter": "python",
   "pygments_lexer": "ipython3",
   "version": "3.11.5"
  }
 },
 "nbformat": 4,
 "nbformat_minor": 5
}
